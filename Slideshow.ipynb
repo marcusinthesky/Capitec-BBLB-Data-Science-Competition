{
 "cells": [
  {
   "cell_type": "markdown",
   "metadata": {
    "slideshow": {
     "slide_type": "slide"
    }
   },
   "source": [
    "[//]: ![](https://png.icons8.com/dusk/5x/happy.png)\n",
    "# Capitec BBLB\n",
    "__by Marcus Gawronsky__"
   ]
  },
  {
   "cell_type": "markdown",
   "metadata": {
    "slideshow": {
     "slide_type": "subslide"
    }
   },
   "source": [
    "![](https://pbs.twimg.com/profile_images/866053673511772160/MrljrN-y_400x400.jpg)"
   ]
  },
  {
   "cell_type": "markdown",
   "metadata": {
    "slideshow": {
     "slide_type": "slide"
    }
   },
   "source": [
    "[//]: #![](https://png.icons8.com/cotton/3x/goal.png)\n",
    "# Aims"
   ]
  },
  {
   "cell_type": "markdown",
   "metadata": {
    "slideshow": {
     "slide_type": "subslide"
    }
   },
   "source": [
    "## Accuracy\n",
    "## Compatable\n",
    "## Scalable"
   ]
  },
  {
   "cell_type": "markdown",
   "metadata": {
    "slideshow": {
     "slide_type": "slide"
    }
   },
   "source": [
    "[//]: (![](https://png.icons8.com/dusk/4x/maintenance.png))\n",
    "# Tools"
   ]
  },
  {
   "cell_type": "code",
   "execution_count": 1,
   "metadata": {
    "slideshow": {
     "slide_type": "subslide"
    }
   },
   "outputs": [],
   "source": [
    "from math import log, pi, cos, sin\n",
    "import time\n",
    "import os\n",
    "import string\n",
    "import dill\n",
    "\n",
    "import pandas as pd\n",
    "\n",
    "from sklearn.pipeline import make_pipeline, make_union\n",
    "\n",
    "from sklearn import preprocessing\n",
    "from sklearn.feature_extraction.text import CountVectorizer, TfidfTransformer\n",
    "\n",
    "from sklearn.neural_network import MLPClassifier\n",
    "\n",
    "from sklearn.metrics import classification_report, log_loss\n",
    "from sklearn.model_selection import cross_validate, train_test_split"
   ]
  },
  {
   "cell_type": "code",
   "execution_count": 2,
   "metadata": {
    "slideshow": {
     "slide_type": "skip"
    }
   },
   "outputs": [],
   "source": [
    "date = time.strftime(\"%Y%m%d\")\n",
    "model_name = 'FFNN_Pipeline_'\n",
    "\n",
    "directory = \"./{0}{1}\".format(model_name, date)\n",
    "\n",
    "if not os.path.exists(directory):\n",
    "    os.makedirs(directory)"
   ]
  },
  {
   "cell_type": "markdown",
   "metadata": {
    "slideshow": {
     "slide_type": "slide"
    }
   },
   "source": [
    "[//]: ![](https://png.icons8.com/dusk/4x/database.png)\n",
    "# Data"
   ]
  },
  {
   "cell_type": "code",
   "execution_count": 5,
   "metadata": {
    "slideshow": {
     "slide_type": "skip"
    }
   },
   "outputs": [],
   "source": [
    "train = pd.read_csv('./train_data.csv')\n",
    "train['split'] = 'train'\n",
    "\n",
    "test = pd.read_csv('./test_data.csv')\n",
    "test['split'] = 'test'\n",
    "\n",
    "data = pd.concat([train,test],axis=0)"
   ]
  },
  {
   "cell_type": "code",
   "execution_count": 6,
   "metadata": {
    "slideshow": {
     "slide_type": "skip"
    }
   },
   "outputs": [],
   "source": [
    "train.amount = train.amount.astype(float)\n",
    "train.description = train.description.astype(str)\n",
    "train.transactionDate = pd.to_datetime(train.transactionDate)\n",
    "\n",
    "test.amount = test.amount.astype(float)\n",
    "test.description = test.description.astype(str)\n",
    "test.transactionDate = pd.to_datetime(test.transactionDate)\n",
    "\n",
    "data.amount = data.amount.astype(float)\n",
    "data.description = data.description.astype(str)\n",
    "data.transactionDate = pd.to_datetime(data.transactionDate)"
   ]
  },
  {
   "cell_type": "markdown",
   "metadata": {
    "slideshow": {
     "slide_type": "subslide"
    }
   },
   "source": [
    "## Heterogenous\n",
    "## Similarity\n",
    "## Natural Language-esque"
   ]
  },
  {
   "cell_type": "code",
   "execution_count": 7,
   "metadata": {
    "slideshow": {
     "slide_type": "skip"
    }
   },
   "outputs": [],
   "source": [
    "from sklearn.preprocessing import LabelEncoder\n",
    "encoder = LabelEncoder()\n",
    "label = encoder.fit_transform(data.loc[data['split']=='train',:]['category'])\n",
    "\n",
    "time =  (data[data['split']=='train']['transactionDate'].dt.hour + data[data['split']=='train']['transactionDate'].dt.minute/60)/24\n",
    "day = data[data['split']=='train']['transactionDate'].dt.weekday + time\n",
    "\n",
    "x = day.apply(lambda x: (1+sin(x*2*pi)/7)*cos(x*2*pi/7))\n",
    "y = day.apply(lambda x: (1+sin(x*2*pi)/7)*sin(x*2*pi/7))\n",
    "z = time.apply(lambda x: cos(x*2*pi)/7)\n",
    "\n",
    "import numpy as np\n",
    "rand = np.random.randint(low=0, high=x.shape[0], size=1000)"
   ]
  },
  {
   "cell_type": "code",
   "execution_count": 35,
   "metadata": {
    "slideshow": {
     "slide_type": "skip"
    }
   },
   "outputs": [],
   "source": [
    "import plotly.plotly as py\n",
    "import plotly.graph_objs as go\n",
    "import plotly as plty\n",
    "plty.tools.set_credentials_file(username='marcussky', api_key='OTp0AS8LVcuURbqr5mTm')\n",
    "\n",
    "\n",
    "trace1 = go.Scatter3d(\n",
    "    x=x[rand],\n",
    "    y=y[rand],\n",
    "    z=z[rand],\n",
    "    mode='markers',\n",
    "    marker=dict(\n",
    "        size=5,\n",
    "        color=label[rand],\n",
    "        colorscale='Viridis', \n",
    "        opacity=0.7\n",
    "    ),\n",
    "\n",
    ")\n",
    "Data = [trace1]\n",
    "fig3d = go.Figure(data=Data)"
   ]
  },
  {
   "cell_type": "markdown",
   "metadata": {
    "slideshow": {
     "slide_type": "subslide"
    }
   },
   "source": [
    "## Time"
   ]
  },
  {
   "cell_type": "code",
   "execution_count": 36,
   "metadata": {
    "slideshow": {
     "slide_type": "-"
    }
   },
   "outputs": [
    {
     "data": {
      "text/html": [
       "<iframe id=\"igraph\" scrolling=\"no\" style=\"border:none;\" seamless=\"seamless\" src=\"https://plot.ly/~marcussky/35.embed\" height=\"525px\" width=\"100%\"></iframe>"
      ],
      "text/plain": [
       "<plotly.tools.PlotlyDisplay object>"
      ]
     },
     "execution_count": 36,
     "metadata": {},
     "output_type": "execute_result"
    }
   ],
   "source": [
    "py.iplot(fig3d, filename='basic 3d')"
   ]
  },
  {
   "cell_type": "markdown",
   "metadata": {
    "slideshow": {
     "slide_type": "subslide"
    }
   },
   "source": [
    "## Amount"
   ]
  },
  {
   "cell_type": "code",
   "execution_count": 8,
   "metadata": {
    "slideshow": {
     "slide_type": "skip"
    }
   },
   "outputs": [
    {
     "name": "stderr",
     "output_type": "stream",
     "text": [
      "/home/marcussky/anaconda3/envs/pearl/lib/python3.6/site-packages/pandas/core/series.py:696: FutureWarning:\n",
      "\n",
      "\n",
      "Passing list-likes to .loc or [] with any missing label will raise\n",
      "KeyError in the future, you can use .reindex() as an alternative.\n",
      "\n",
      "See the documentation here:\n",
      "http://pandas.pydata.org/pandas-docs/stable/indexing.html#deprecate-loc-reindex-listlike\n",
      "\n"
     ]
    }
   ],
   "source": [
    "%matplotlib inline\n",
    "\n",
    "from math import log\n",
    "import matplotlib.pyplot as plt\n",
    "\n",
    "Data = [go.Histogram(x=data.loc[\n",
    "    ~(np.abs(data.amount-data.amount.mean())>(3*data.amount.std())),['amount']].apply(\n",
    "    lambda x: (-x))['amount'][rand].tolist())]\n",
    "layout = go.Layout(\n",
    "    paper_bgcolor='rgba(0,0,0,0)',\n",
    "    plot_bgcolor='rgba(0,0,0,0)',\n",
    "    showlegend=True,\n",
    "    margin=dict(\n",
    "        l=0,\n",
    "        r=0,\n",
    "        b=0,\n",
    "        t=0\n",
    "    )\n",
    ")\n",
    "\n",
    "fighist = go.Figure(data=Data)"
   ]
  },
  {
   "cell_type": "code",
   "execution_count": 9,
   "metadata": {
    "slideshow": {
     "slide_type": "-"
    }
   },
   "outputs": [
    {
     "data": {
      "text/html": [
       "<iframe id=\"igraph\" scrolling=\"no\" style=\"border:none;\" seamless=\"seamless\" src=\"https://plot.ly/~marcussky/31.embed\" height=\"525px\" width=\"100%\"></iframe>"
      ],
      "text/plain": [
       "<plotly.tools.PlotlyDisplay object>"
      ]
     },
     "execution_count": 9,
     "metadata": {},
     "output_type": "execute_result"
    }
   ],
   "source": [
    "py.iplot(fighist, filename='basic histogram')"
   ]
  },
  {
   "cell_type": "markdown",
   "metadata": {
    "slideshow": {
     "slide_type": "subslide"
    }
   },
   "source": [
    "## Description\n",
    "![](data:image/png;base64,iVBORw0KGgoAAAANSUhEUgAAAXYAAACHCAMAAAA1OYJfAAAA+VBMVEX///+N01/MzMwAAADOzs75+fmQ2GHKysrj4+NLS0vc3Nzy8vILCwvh4eHW1tbq6upaWlqenp65ubnCwsKK0lqurq48PDxhYWG1tbUgICBmZmYVFRUaGhpJSUlYgzuBgYGKioopKSkwMDBCQkKmpqaWlpZ5eXlvb28uLi70+/B7e3uR02aNjY0lJSXq7udbW1vH67BxqUzH5rM5VSZIazF6t1LG2rocKhKa1HVgkEEkNhnF0b6Z13Hs9ecLEgfG3re33KDW58zV483Y78uj0IZklkOd0Xu326GFxlm44p3i9NbX5c0+XCpsoknF17vc49nK08RMcjO30Kb+Yj2yAAAW6klEQVR4nO1diYLbNpJlC6R5imeTEkXJlEjqiCyl43PaWWc8k4m9vZM4mdn//5itAu8DpOR21tksXxK0GsJR9VCoKoBKi+PqkA7BknsEFDnwP783CVbTx8x+EXSi7Y0vPaix0DZ6q3amLR1WD2GqK0L+y1Qj5DHT6x7RPr83IZHymNlZEBSlHJcnZHYt7aqi99uDZJLlpFUrE2KzeiizyCzE+HPSrniRXPzyObTzcrRX+xpcT7sek6hYyq9M+9mUHjM7CzqpSPU5tDtnYn552r1C2a9Lu6r26vbZANqD4pfPon3zZ6b998KXoP3uy9IuOR6JRAkhFLRLE1Hk67KpuuiIPMsHwLviRGnSPuWxVqg2FHAYHaoMOl8dU8nI61Qd+/JKqw0dRJnUB04HM6CL2JZQlRyg3aAqcgXtCrTV61RCf6epNp1Ocs9E1rF/Jh9KB2qUTTPaG7zVaKdCi5nQhiwHJJBNwELPaFctc0nIeeFWRHf3Ebzlm1bnoou7A2gmb1WlQrt+kmEYLQ4rSZQeeoQQL9S50DT55jArc5+xNt95PvQ9y2GHuUzWOHCwCsW8ZmcueG4+wy6m25TQNkF9cocqYlxE2lXjtAJ1DvuKhRrWbAPtDoukudS8HGugOh0A5BMm1s4706YFG0g7ryZmgLwVIldpF9dANLCxpnmmREo4Ke3CXV5R8K6aWl6378ik3HP+phsXtNtx3uV8KubO6yJdpvPVAZqkmUxYTEcW7dkO+XuHJKtaEd/d5rWnBm1WqeHZoLQvnFzFTbFy+ixvpDWndCoDAGnSrPw99/hAu2/vssrAatO+LYT2sEoNd2fiH9eArURpD2DhZttkAWuTnwBUZMvcOskM6Fi0diGKFYT2fK8RL8ppF8H0glli7+EnyeSAMEKCheusPbLxOmlPE8gEusiJyLsnuU27HdBB5jiw5ub6bVZg0Kck9ElrXH29h5YnqqJAaZc94u8ta0FKn8+DPNrMciwTrac+gBICGVGIA1ig/HRFoqPl2FtkRS5oB97IzHXCqLTXkvYQlzic22vYUBrdYsqKeLW8ncyoQYObJiGtFEDsON2OfFRwWGWLyHTVFZwypd2AKT3qRQywrDTcqGAOHjUvNSRtekraZ0TLJzGaTkYBZVfUHBQTd02uXzayAG/LTS+hNEIq2A5t4sAKphvGAAu+S3eavckrS4gQUotBDSv3jth0Tl9JuFpRqtu+sNeCdhv88zbtA2vtIVmtTOaQLYKFTpBKdy43I1i21zB3sE1PKVXS8olIJt0UZj/Sd5cF1YLZQ7skk5h5KASpDtnAUpDbAMywzCohayFN797MZHIbFU75S+QlVwtmWDRGYCWQVu4EkfYg98mkIpada5uxTu0CyWzRnjfQIxLrmXC7Yibo1bh8wDEzU8CVTmmHRTXzBuB1ZaQT1yevc3toh13ssU6rOEPhA44wsJHpF+YitAVs057PDEa0oVyYFQtXIxI1kkEW7eCa0n2OtBctrMygC9rtM1kVFM9TBVq054ZmeOm2ke6qedC6uQVVcJQFgXZGuxCka5pqfaAt0McUwVXQepwM6MC6rdKrMcEABqVMv1woddEeuEn7OV9UEeIalQYGKic0c9dRoE27oGCCO/cyA0Ha11WxarRvq+ECPF7E9R2XVmSDCujgwbZWjn3u8XNMNpkTp3rktOeE0F88GmTUWhq7HAip2srqOiRMtApBOIuS6hfkRAlhJQPL0KRdzkeGRfSFlIploWISt0Zo0G6czlqea6UbA2jXyu1yzjZcpjCKZCb58OslFWaQdj4gddQDveMTufDE/CalXa3SDgOhHrB7SOk7+jIZjiYkwNXOaW5tWNdSQMHPBpHJOV/QS2gvTqlA+xJpdxoa9tPuUkICf7M5a1kcxUymMClVLsSitKNjrIO7hHaokyuIC09BYfukvMDiswQS9llQ0i5fSztnh3K2xA0nX6c9yvaPDFlzXncl7dTawTcuV1UVG/lTjXYHNqp5SlzbcVyvQnuhjmoWYhW0R1UGMYwPOxmYhlcqqLtd8I9xEcPEZYeT4eIrnQxCEd0FtCF3jdmgqkjlhDxdeiztULeZVFXsyWQweOSRB1P4nHatPFx6WWDLnQwEtZ1UHZ67gHalyzBLKIdsaipfxbcXngfE0Obpom+Lbn0hNe8nnbQmh7xf3TL5LI+gnToZoxZS26jSblQsyolK2kvdVK2M9FSsdesElh6XCkW6aFdbUbSOagSyctrjihjzZRp03SxdQyR9x6UStZXK9SvOa+AbNlkCOUR79317bu0YJJhXtADxQIpHQUaeHqZalLQXzMIMWi2TSUg7/zRMcijS1C7asdeh/aCwwK7UQ9rkClqlM8BDLj1/oKVmCQc6nEtoh9RrXT9zwiFilasArv2Y6ddLu3KuaNVFO9qj1nnZmQ3gkVUuGdB+zgTAA3hJe7HnweT2QipWSjtmvXXr4fBkExS5TyfteMycFXwYYmPhlOJUJqyLU6oCfvlEGwqJnyVX6jE/whvHvssBySk2/KJ1FwH7PcgHhsnSMQZon8YVz9RJuw4WcSxmVSaNJVBX5JxLqxZRCc+RFdpJ9tzPLlQrghnI5BVCCSKdCDrHW3c+tw0G7XSglcWreEVyuoub+TSYu7bWOYE/Ei3IaBfwQnAHK8Sf/GKL4apHoeWe7sihJ5Oxo5mF9+YCHy4rd4SZ0Ee8dxMFYbKGPG6nZvr10o5XQLKFKgoM2gXcnWaCF/DT+UluPTiFDSsjR5DQogAHV+VUcU+CSgJJlmQBbyvbZUWsjHY4+JLN0UGdRGu3TE0P09BgGeAA3bTjgZZoh1he4S34pkk7XnuRaBVDzr4vLn5psnqOV/TCM9eCXkMRPGnw3Re/Ke04ibeS4wPpuHgTVnibF8d4OS5n/A3QTu+8UMXY6A6pmeVqEaq4bN/J0B1NBwD5eHBZQSyjACeZHHLafRjBj1d4G5g7pDJ1Q+9LzqgTvkgtyZgdzktNwwGmvlbSLpMoZ0Yx/SzTP6/aTzrU3ZK+t7GnsVZ8zma7SXv4+3LLCovID/xoL3Hnyu1BQbvmYWKi322yM2DgzZttAMfset8/lpIeckk7acchz4Gm4S2eXrm7hizunAsnxstMxY3cMYB5wAGQdm4ip+J5NmToqdeUZuSsT+LUqopVhayysIb1IdNp6RXTG7rtuuhkVNstFbVpVQZ+e9ztjmurO7aKa3jTMrB/KbJkhVC7rfdQnTl13RrZtJ4ugQzpkkruGrqG6y7SAUpz4Kqkuut23SpIPKoo4IMyVyweHVbV5ezTESdNuq/hDBzAyaIKzp8YnOBkEsOLOfidBAcoRxTdeSmKhJ124dbuCd2/OyDBN3//T4CNqEOYVW7sRvzOyJ/LGBBv/Z6T74gvigU+w5yfMMklp+HmI74MFsXV53L9tWX5fwTRmnln/PjLafQw/6swFEXXlfYHwkaMGDFixIgRI0aMGDFixIgRI0aMGDFixIgRI0aMGDFixIgRI0aMGDFixIgRI0aMGDFixIgRI0aMGDFixIgRI0aMGDFixIgRI0aMGDFixIgRIy6DChBYRUdrwRAYRftvoX77DfzTXXR9rcs17XE+oVEYKLbR/S2UlbG/aRaM7ygU6s1q4gx/FaKBzaR6YWQF/qHhyWSC/+UFXxQTvi3PNH+fbxetPzX628eb+2fv7pvFx5t398/+3iEptP/47P4+K27u39HiGXR79+7HRlsFpmShi5MfccSPz24+3mbFs6K4/62buG9/uv3pBlqkxe07WtynxZsh1tX/vr3HtpXiXV78J35l5IQJvv0HvQye3bql7T9vbxi4vf1Hh6j/YDW/uX3WbC/1iN1lvS9gEPino7h9989u5n646ehA625uXwzRzt3fZm1bxe1/fYNmc438Epv2Scvaf2TSeNOyXsTfnzHb3zfb91lLl7W/Z459+/FbBu3v2PL/OsS68JFpczdo7XqP/G1r76G9rW0P7Z3W/jOb9pa199HeZe1s2m9Y1v4tm/Zha++hnVr7dfJ/ISdz0+nb2U7m5l2zfZ+T6bL2F+yx73/oZu4Htvi374do596xe/9twNo7nExP63ZIZavaSfuPVziZum+sGUMn7W96xmaF1Hs27cMh9ad+J1O1dp4XRb5UYSikNlr3WfsTRFXuoZDa6NAXUhtSM0NqZeibqiw9IZUp/oUhtbM3dTIVa+edxEpcke+Rv+LbedGF5k5Z0RNSnzx/+svLl68rqnaF1Ipvf3j76uXLp6WsLYucVuSwTqet3bf+XNW3P3x49cvLf1dYuCCkovivKuJfFVJfPwVdPlR4R2uv7FbbspDJgvf+kCpa28S1rELfvpD6hH4/QkXuTmsvM5kn/8b2r0pR2SGVF9ehZa3DeZ+1VGh/8hZleVmhcDikvv4euvzleSnONSH1yS+oS8WE6iEVrMaCzWpvCwV6QyrvgoVBn2KV+pzMk6cfHn6p0j4QUp98evr6bZV2dkjlrdAFOcKTyF5/ruJkYOM9//TXKu3DIfXh7YeH72u0D4fUwsk8+fD29dMq7fWQmhLOi4l1kZOBRcIm82J794ZUcG6vBmmvhtQnT2q03//caJtvUt5Zr/HgnJTmPhBSQZTnF9FeCanQp077NSEVOtdpr4VU3qUOA6xYZDuZwtp5x3KxtVNsjoEEsk778Cm1TjszpPLz0EI57F3Ss0nrCWSD9gtCKvT5/jonUw2pN3Xa6yEVaHdS2vMw2WftvJ3SLm7dfID+U2qd9qGQ2qSdGVJ5N0yXf5cUigydUuu0X3ZKrdN+5Sm1ae1qJaTySUp7xW30hNQ8BqBzZ2nbQ/tASG3RzgypfHJMl/9oFZt06JR6qbWzab/ylNph7dMe2ntCakH71s1pb1l7j5MZPqXWaX/X9O2Fk8msXdyVtA+dUi/07X1O5oqQ2qK9EVIf6WQGTqlXhtQh2pWS9iRzMheG1Itpr51SHxFS206mFlIzM784pCZ/iJBqZyGV+hq2k/njhlRgcHJ5AjmBdnye/lAMh9SK9XaF1B5rZ4dUERJIHrP3nnMb1x9Su74Kjuu19uGQ2mvt1ZA6AcKdiVi69v5TKjh3cC/ONmG71CrtDze/kOcPD4WuQyH14QZovyna95xSkxByGPu4LfQYCqkPN3BcKkVhW3tNnO//8qkU57qQ+nADtFc61y9+wW9YSWLlIXLw4tfdQmuruJTpC6npAblyPzB0Sn2etX+bU8MKqRjUwxP8W17KDITU139Nhy720nBIfXiViZN3Gfbt1VNq1vlT3rvxmIN35q5rX3wVNoHWc6dH2zKkPvnwNEW+5EMh9SFrny8TM6TSKzmrdiU3EFLzoT/lFReE1E9Zn4L2wUym4mReN3ShmUzj4rd6dT148Tu57uK3ev150cVv2f4LX/zWxr4kpDa6fMbFb6Vz4+K3iesec7RDas9jjuGQWkcrpPY9Ar7uMcdlIbWB60JqA/WQ2pb/kc9Sf2aLPXxKreNrPEv9gd3lj/QstR1S2bR3h9Qea2eH1AvWn/u8Z6nsLteE1DaGPjlw1Qc2+kLqZbT3OJmekHoZ7X3PUi85pTZovyaktkBDqihOIGWkxaRWiF0hdVK2rhfipCOkstEdUpnN2yFV7JKBFt0hlS0K08lk7990FJeEVEbXzMkoU13SK4UCxTQt2mZjKJIuKfVCz4rWN1v/8ObFmxfvu4r3L37r+ArJ396n71WLN1nRDKlSOfOUFtOy6LJ2GPvX795g8euLZsEIqcKbosWb7/6DFt+9z4p/DdL+r+/ev8e2RfGmKH5lfOhyxIgRI0aMGDHiDwbd/toS/F9GmfO1/2ehbghzmlGH5Ot827pg/Am+5V3f8flLK7xMH4m4+GP9+9Fu7VpHpRL6yrl2PONrnyfUo1UXwU45RMwOl/Gokjn+WBOwvLLyi4iXYe8p7Df5dPorIJmLR4nzeKjejkn7IrqIdoWQwA9O3FpTDgFJFToFQbD6XObVqWjrcABXFfiJB2tj5tmKzmp+Pe1GuB5oIUwNVXf0VIPpxFFUWocFGoDBtAJlkvZSFdXgHYVFoOgteGXKCZJup41sbW7wIh02pd3QnUnPFocZtmTvJjp3Iv4pWZAQqvYknFveOecdBkyvjwwdXuv46Wux8xovbX0kh5gcBdg+UaxtHIwa2ibyO1QQ7CQRdUq7YVuJQyeR5tZcUZwLTEZltlGixWKzJHucwyXniOwMTorBpCYbApPsCKPfnPge2RtovaEZEZIw2kUkiDZ7Toz8+EAZs4Nw5W1oe0q7ckfiM+lNUozU3E74Q5B9jnM07K4QK31fNJfEX4jwyvV0M5AN4RQHwR3LI+8DS5/iIxDHUab6LFbY1h4Sz/RDnHdqEjMmJ6BEksmdHJsHxv0TQk1cXLL1frdm7CFlRba6HqLeQKCuJOSYku0uYTZVNru7OWSvK3OyQ+v1XIWXI8a2mIC161NOsfWpYqF/sX0/UZQjcVLaBTkSFT0MJmwlgHbql040pO4DfGU7jsPj9Ij5VpFE2QdKLBJtgb8j2U6nscd3jiaRdX1wIHUXd4rvkKOq6kSDFvLZVmHbwau9D69c4vX8f8ySPEPDPOx2m223wSsxmhx/3nHCjqq18KfcFgz9NIvASJcMKz6mFPg8LBYqn5Qeuw41PpYu2IRFtJe4kgL2QtpdglbKkRNbiZz2NJMJAwGdAv0EwazSyAlcpB3H0cmWTtE95rxw1YIV+8ESNx6D9hl1PEe0P7pWarQwOPrKkHtpN2ecOpN7Yo8SI2uCLHPT1LITMPyJlhiyu/bgl+6uxt0Bf2B4TEOkmm/4JtQ4Dam8uQl8EuHuQE44z1Qp7SFZh2G4JrseV9mifV13fYKSHPczLUTakYwtcXVd5+NFJzNWkHsfUztaidVDu+ylWs7B7tH+1H0sGVRT9RgN0C6EkchuosQhnUDmdI8mCXPU0VsoRFc0Z73pZmMqr/CHCMLY1HiGaHfJbJu43gZpT9IJJUr7jiwotj2mYaSRo6Q9IVW/LbiavN6Gyx3STpsQDxEfO9V28o05pdtBorR7nT5YjtMO88y4hJ13Me2cLhPZYgXelHa0dsmka7vV0Ot6rjflyF4Ou3upCw1/JFSgC2hX9xv8xUTagzW+9GcCpf2SM5AR3dm8VKHdkH1nKulz6p+4abyH8KaDT8xoh9g7VQBS59Aq2adLzFNftEfaT35nHDCp1OjRp7QthLqLnQyUzo5oFsu357SDkYD0grlR0TijUOXkJWFlAyHBXYnhfIh2E7wJZyzQKTk+0u6jCU0xq0HanSzA9ZLvBgTy9vRyYId+TzFJvNpkTlqnm8ElhbXblCMmLDKbi9utKpBD4hxpEsYTedvRZ0szLB9DKrlTs6BhRjpOMUw7er+7TXczxSto5wPPtRfpHqLCJERjpe1K4CX2HnfpAO3Cliy2c7DUo2N5BGlfagtnHuOy0QRyT3a2k5isBDQdxJAkg1NpypaViu1OsruS6cpXVCcqaefuiKWqqsWI8tzcWy7PkGJMoqUfGz42S+Jo2bHyETlakYcaOsTbhsQEqaUzkePIHKJdkATYlvsDg3YTHZywQL8+9fzlJpXVW8EGNpZ79pkD2p6RasdDi1CXLB2N0NssYH5/GYk7GdvP975/wAPSzkRNrQ2MZIpsJQZhe2Tpbc01sKdR7tTdBvIcj30YMLLzmTRw0FV3phlKe8xuxb0ML2mn9X4t7szeBPIOCIp265gklxzE1Z4zwGPaAoxKc7UusjF95B2X7tqKwE/RnWY1/ByqHjdoispBs3q/JfnrHpnVuc0Jzva4P9lf+07sTwMjnIvuXXDB9uz841MjPg/GIThr3mOc4p8B/wPGMHWZQeErCgAAAABJRU5ErkJggg==)"
   ]
  },
  {
   "cell_type": "markdown",
   "metadata": {
    "slideshow": {
     "slide_type": "subslide"
    }
   },
   "source": [
    "## Category"
   ]
  },
  {
   "cell_type": "code",
   "execution_count": 10,
   "metadata": {
    "slideshow": {
     "slide_type": "skip"
    }
   },
   "outputs": [],
   "source": [
    "labels = data[data['split']=='train']['category'].value_counts().keys().tolist()\n",
    "values = data[data['split']=='train']['category'].value_counts().values.tolist()\n",
    "\n",
    "trace = go.Pie(labels=labels, values=values)"
   ]
  },
  {
   "cell_type": "code",
   "execution_count": 11,
   "metadata": {
    "slideshow": {
     "slide_type": "-"
    }
   },
   "outputs": [
    {
     "data": {
      "text/html": [
       "<iframe id=\"igraph\" scrolling=\"no\" style=\"border:none;\" seamless=\"seamless\" src=\"https://plot.ly/~marcussky/33.embed\" height=\"525px\" width=\"100%\"></iframe>"
      ],
      "text/plain": [
       "<plotly.tools.PlotlyDisplay object>"
      ]
     },
     "execution_count": 11,
     "metadata": {},
     "output_type": "execute_result"
    }
   ],
   "source": [
    "py.iplot([trace], filename='basic_pie_chart')"
   ]
  },
  {
   "cell_type": "markdown",
   "metadata": {
    "slideshow": {
     "slide_type": "slide"
    }
   },
   "source": [
    "[//]: ![](https://png.icons8.com/dusk/4x/mind-map.png)\n",
    "# Models"
   ]
  },
  {
   "cell_type": "markdown",
   "metadata": {
    "slideshow": {
     "slide_type": "subslide"
    }
   },
   "source": [
    "__Example Pipeline__  \n",
    "\n",
    "pipeline = make_pipeline(  \n",
    "      * make_union(  \n",
    "            + make_pipeline(preprocessing.FunctionTransformer(*select_description), CountVectorizer()),  \n",
    "            + make_pipeline(preprocessing.FunctionTransformer(*select_amount), RobustStandardizer()),  \n",
    "            + make_pipeline(preprocessing.FunctionTransformer(*select_transactionDate.apply(lambda x: cos(x))))  \n",
    "      * ),  \n",
    "      * make_pipeline(),\n",
    "      \n",
    "    *MLPClassifier()  \n",
    ")  "
   ]
  },
  {
   "cell_type": "markdown",
   "metadata": {
    "slideshow": {
     "slide_type": "subslide"
    }
   },
   "source": [
    "__Example Grid__  \n",
    "\n",
    "from sklearn.linear_model import LogisticRegression  \n",
    "params = dict(reduce_dim=[None, PCA(5), PCA(10)])  \n",
    "grid_search = GridSearchCV(pipe.named_steps.makepipeline, param_grid=params)  "
   ]
  },
  {
   "cell_type": "markdown",
   "metadata": {
    "slideshow": {
     "slide_type": "subslide"
    }
   },
   "source": [
    "[//]: ![](https://png.icons8.com/dusk/2x/combo-chart.png)\n",
    "##  Network Models"
   ]
  },
  {
   "cell_type": "code",
   "execution_count": 8,
   "metadata": {
    "slideshow": {
     "slide_type": "skip"
    }
   },
   "outputs": [
    {
     "data": {
      "text/plain": [
       "array(['Clothing', 'Eat_Out', 'Education', 'Entertainment',\n",
       "       'Gifts_Donations', 'Groceries', 'Health_Fitness', 'Holiday_Travel',\n",
       "       'Home', 'Medical', 'Pets', 'Transport'],\n",
       "      dtype='<U15')"
      ]
     },
     "execution_count": 8,
     "metadata": {},
     "output_type": "execute_result"
    }
   ],
   "source": [
    "encoder = preprocessing.LabelBinarizer()\n",
    "encoded_y_train = encoder.fit_transform(train['category'])\n",
    "encoder.classes_"
   ]
  },
  {
   "cell_type": "code",
   "execution_count": 10,
   "metadata": {
    "slideshow": {
     "slide_type": "skip"
    }
   },
   "outputs": [],
   "source": [
    "table = str.maketrans({key: None for key in string.punctuation+'0123456789'})"
   ]
  },
  {
   "cell_type": "code",
   "execution_count": 65,
   "metadata": {
    "slideshow": {
     "slide_type": "skip"
    }
   },
   "outputs": [],
   "source": [
    "pipeline = make_pipeline(\n",
    "    \n",
    "    make_union(\n",
    "        # Description\n",
    "        make_pipeline(\n",
    "            preprocessing.FunctionTransformer(lambda x: x['description'].apply(lambda x: x.lower().translate(table)), validate=False),\n",
    "            make_union(\n",
    "                make_pipeline(\n",
    "                    CountVectorizer(strip_accents='ascii', analyzer='char', lowercase=True),\n",
    "                    TfidfTransformer(),\n",
    "                ),\n",
    "                make_pipeline(\n",
    "                    CountVectorizer(strip_accents='unicode', analyzer='word',  max_df=0.999,min_df=0.001),\n",
    "                    TfidfTransformer(),\n",
    "                ),\n",
    "                n_jobs=-1\n",
    "            )\n",
    "\n",
    "        ),\n",
    "        make_pipeline(\n",
    "            make_union(\n",
    "                # Amount\n",
    "                make_pipeline(\n",
    "                    preprocessing.FunctionTransformer(lambda x: x['amount'].apply(lambda x: log(-x+1)).values.reshape(-1,1), validate=False),\n",
    "                    preprocessing.RobustScaler(),\n",
    "                    preprocessing.PolynomialFeatures(degree=3, interaction_only=False, include_bias=False)\n",
    "                ),\n",
    "\n",
    "                # Codes\n",
    "                make_pipeline(\n",
    "                    preprocessing.FunctionTransformer(lambda x: x['code'].apply(lambda x: str(x)), validate=False),\n",
    "                    CountVectorizer(),\n",
    "                ),\n",
    "\n",
    "                #time\n",
    "                make_pipeline(\n",
    "                preprocessing.FunctionTransformer(lambda x: (x['transactionDate'].dt.weekday + x['transactionDate'].dt.hour/24 + x['transactionDate'].dt.minute/(24*60)), validate=False),\n",
    "                    make_union(\n",
    "                        make_pipeline(\n",
    "                            preprocessing.FunctionTransformer(lambda x: x.apply(lambda x: cos(x)).values.reshape(-1,1), validate=False),\n",
    "                        ),\n",
    "                        make_pipeline(\n",
    "                            preprocessing.FunctionTransformer(lambda x: x.apply(lambda x: sin(x)).values.reshape(-1,1), validate=False),\n",
    "                        ),\n",
    "                    ),\n",
    "                ),\n",
    "\n",
    "                #day\n",
    "                make_pipeline(\n",
    "                preprocessing.FunctionTransformer(lambda x: (x['transactionDate'].dt.hour/24 + x['transactionDate'].dt.minute/(24*60)), validate=False),\n",
    "                    make_union(\n",
    "                        make_pipeline(\n",
    "                            preprocessing.FunctionTransformer(lambda x: x.apply(lambda x: cos(x)/7).values.reshape(-1,1), validate=False),\n",
    "                        ),\n",
    "                        make_pipeline(\n",
    "                            preprocessing.FunctionTransformer(lambda x: x.apply(lambda x: sin(x)/7).values.reshape(-1,1), validate=False),\n",
    "                        ),\n",
    "                    ),\n",
    "                ),\n",
    "            ),\n",
    "        ),\n",
    "    ),\n",
    "        \n",
    "    #Classifier\n",
    "    MLPClassifier(hidden_layer_sizes=(50, 50, 50),activation='tanh',solver='adam', verbose=False, early_stopping=False,max_iter=10, alpha=0.0002),\n",
    ")"
   ]
  },
  {
   "cell_type": "markdown",
   "metadata": {
    "slideshow": {
     "slide_type": "subslide"
    }
   },
   "source": [
    "## Multilayer Perceptron"
   ]
  },
  {
   "cell_type": "code",
   "execution_count": 13,
   "metadata": {
    "slideshow": {
     "slide_type": "skip"
    }
   },
   "outputs": [
    {
     "name": "stderr",
     "output_type": "stream",
     "text": [
      "/home/marcussky/anaconda3/envs/pearl/lib/python3.6/site-packages/sklearn/model_selection/_split.py:2026: FutureWarning: From version 0.21, test_size will always complement train_size unless both are specified.\n",
      "  FutureWarning)\n"
     ]
    }
   ],
   "source": [
    "X_train, X_test, y_train, y_test = train_test_split(train.drop(columns=['category']), encoded_y_train, train_size=0.8)"
   ]
  },
  {
   "cell_type": "code",
   "execution_count": 121,
   "metadata": {
    "slideshow": {
     "slide_type": "-"
    }
   },
   "outputs": [
    {
     "name": "stderr",
     "output_type": "stream",
     "text": [
      "/home/marcussky/anaconda3/envs/pearl/lib/python3.6/site-packages/sklearn/neural_network/multilayer_perceptron.py:564: ConvergenceWarning: Stochastic Optimizer: Maximum iterations (10) reached and the optimization hasn't converged yet.\n",
      "  % self.max_iter, ConvergenceWarning)\n"
     ]
    },
    {
     "data": {
      "text/plain": [
       "0.99733014693527011"
      ]
     },
     "execution_count": 121,
     "metadata": {},
     "output_type": "execute_result"
    }
   ],
   "source": [
    "pipeline.fit(X_train, y_train)\n",
    "pipeline.score(X_test, y_test)"
   ]
  },
  {
   "cell_type": "code",
   "execution_count": 15,
   "metadata": {
    "slideshow": {
     "slide_type": "-"
    }
   },
   "outputs": [
    {
     "data": {
      "text/plain": [
       "0.017639557895139955"
      ]
     },
     "execution_count": 15,
     "metadata": {},
     "output_type": "execute_result"
    }
   ],
   "source": [
    "y_pred_proba = pipeline.predict_proba(X_test)\n",
    "log_loss(y_test, y_pred_proba)"
   ]
  },
  {
   "cell_type": "markdown",
   "metadata": {
    "slideshow": {
     "slide_type": "subslide"
    }
   },
   "source": [
    "## Data reprocessing"
   ]
  },
  {
   "cell_type": "code",
   "execution_count": 102,
   "metadata": {
    "slideshow": {
     "slide_type": "-"
    }
   },
   "outputs": [
    {
     "data": {
      "text/plain": [
       "Pipeline(memory=None,\n",
       "     steps=[('featureunion', FeatureUnion(n_jobs=1,\n",
       "       transformer_list=[('pipeline-1', Pipeline(memory=None,\n",
       "     steps=[('functiontransformer', FunctionTransformer(accept_sparse=False,\n",
       "          func=<function <lambda> at 0x7fe1491dbae8>, inv_kw_args=None,\n",
       "          inverse_func=None, kw_args=None,...=True, solver='adam', tol=0.0001, validation_fraction=0.1,\n",
       "       verbose=False, warm_start=False))])"
      ]
     },
     "execution_count": 102,
     "metadata": {},
     "output_type": "execute_result"
    }
   ],
   "source": [
    "pipeline"
   ]
  },
  {
   "cell_type": "code",
   "execution_count": 126,
   "metadata": {
    "slideshow": {
     "slide_type": "-"
    }
   },
   "outputs": [
    {
     "data": {
      "text/plain": [
       "790"
      ]
     },
     "execution_count": 126,
     "metadata": {},
     "output_type": "execute_result"
    }
   ],
   "source": [
    "transformed_data_test = pipeline.named_steps.featureunion.transform(X_test)\n",
    "inputs_shape = transformed_data.shape[1]\n",
    "inputs_shape"
   ]
  },
  {
   "cell_type": "markdown",
   "metadata": {
    "slideshow": {
     "slide_type": "subslide"
    }
   },
   "source": [
    "### Keras FFNN Dropout Model"
   ]
  },
  {
   "cell_type": "code",
   "execution_count": 144,
   "metadata": {
    "slideshow": {
     "slide_type": "skip"
    }
   },
   "outputs": [],
   "source": [
    "transformed_data_train = pipeline.named_steps.featureunion.transform(X_train)"
   ]
  },
  {
   "cell_type": "code",
   "execution_count": 196,
   "metadata": {
    "slideshow": {
     "slide_type": "-"
    }
   },
   "outputs": [],
   "source": [
    "from keras.models import Sequential\n",
    "from keras.layers import Dense, Dropout, Input\n",
    "from keras.callbacks import TensorBoard, EarlyStopping\n",
    "from keras.wrappers.scikit_learn import KerasClassifier\n",
    "\n",
    "def create_model():\n",
    "    model = Sequential()\n",
    "    model.add(Dense(40, input_dim=inputs_shape, activation='tanh'))\n",
    "    model.add(Dropout(0.2))\n",
    "    model.add(Dense(30, activation='tanh'))\n",
    "    model.add(Dropout(0.2))\n",
    "    model.add(Dense(30, activation='tanh'))\n",
    "    model.add(Dense(12, activation='softmax'))\n",
    "    model.compile(loss='categorical_crossentropy', optimizer='adam')\n",
    "    return model"
   ]
  },
  {
   "cell_type": "code",
   "execution_count": 197,
   "metadata": {
    "slideshow": {
     "slide_type": "-"
    }
   },
   "outputs": [],
   "source": [
    "stopping = EarlyStopping(monitor='val_loss', min_delta=0.0005, patience=1, verbose=2, mode='auto')\n",
    "tensorboard = TensorBoard(log_dir='./{0}{1}/tensorboard_logs'.format(model_name,date), histogram_freq=1, batch_size=50, write_graph=True, write_grads=True)\n",
    "\n",
    "dropout_model = KerasClassifier(build_fn=create_model, epochs=2,validation_split=0.1, shuffle=True, batch_size=32, verbose=2)"
   ]
  },
  {
   "cell_type": "code",
   "execution_count": 198,
   "metadata": {
    "slideshow": {
     "slide_type": "subslide"
    }
   },
   "outputs": [
    {
     "name": "stdout",
     "output_type": "stream",
     "text": [
      "_________________________________________________________________\n",
      "Layer (type)                 Output Shape              Param #   \n",
      "=================================================================\n",
      "dense_74 (Dense)             (None, 40)                31640     \n",
      "_________________________________________________________________\n",
      "dropout_37 (Dropout)         (None, 40)                0         \n",
      "_________________________________________________________________\n",
      "dense_75 (Dense)             (None, 30)                1230      \n",
      "_________________________________________________________________\n",
      "dropout_38 (Dropout)         (None, 30)                0         \n",
      "_________________________________________________________________\n",
      "dense_76 (Dense)             (None, 30)                930       \n",
      "_________________________________________________________________\n",
      "dense_77 (Dense)             (None, 12)                372       \n",
      "=================================================================\n",
      "Total params: 34,172\n",
      "Trainable params: 34,172\n",
      "Non-trainable params: 0\n",
      "_________________________________________________________________\n"
     ]
    }
   ],
   "source": [
    "create_model().summary()"
   ]
  },
  {
   "cell_type": "code",
   "execution_count": 195,
   "metadata": {
    "slideshow": {
     "slide_type": "subslide"
    }
   },
   "outputs": [
    {
     "name": "stdout",
     "output_type": "stream",
     "text": [
      "Train on 192819 samples, validate on 21425 samples\n",
      "Epoch 1/2\n",
      " - 57s - loss: 0.0849 - val_loss: 0.0195\n",
      "Epoch 2/2\n",
      " - 56s - loss: 0.0216 - val_loss: 0.0170\n"
     ]
    },
    {
     "data": {
      "text/plain": [
       "<keras.callbacks.History at 0x7fe106e34748>"
      ]
     },
     "execution_count": 195,
     "metadata": {},
     "output_type": "execute_result"
    }
   ],
   "source": [
    "dropout_model.fit(transformed_data_train, y_train)"
   ]
  },
  {
   "cell_type": "markdown",
   "metadata": {
    "slideshow": {
     "slide_type": "subslide"
    }
   },
   "source": [
    "[//]: ![](https://png.icons8.com/cotton/1x/tree.png)\n",
    "## Tree Models"
   ]
  },
  {
   "cell_type": "markdown",
   "metadata": {
    "slideshow": {
     "slide_type": "subslide"
    }
   },
   "source": [
    "### Boosted Decision Trees"
   ]
  },
  {
   "cell_type": "code",
   "execution_count": 106,
   "metadata": {
    "slideshow": {
     "slide_type": "-"
    }
   },
   "outputs": [],
   "source": [
    "from xgboost import XGBClassifier\n",
    "model = XGBClassifier()"
   ]
  },
  {
   "cell_type": "code",
   "execution_count": 124,
   "metadata": {
    "slideshow": {
     "slide_type": "-"
    }
   },
   "outputs": [
    {
     "data": {
      "text/plain": [
       "array([ 0.00742804,  0.00519963,  0.00612813,  0.00241411,  0.00185701,\n",
       "        0.00594243,  0.00222841,  0.00408542,  0.00464253,  0.00148561], dtype=float32)"
      ]
     },
     "execution_count": 124,
     "metadata": {},
     "output_type": "execute_result"
    }
   ],
   "source": [
    "model.fit(transformed_data_train, encoder.inverse_transform(y_train))\n",
    "model.feature_importances_[0:10]"
   ]
  },
  {
   "cell_type": "code",
   "execution_count": 127,
   "metadata": {
    "slideshow": {
     "slide_type": "-"
    }
   },
   "outputs": [
    {
     "data": {
      "text/plain": [
       "0.99027277309983008"
      ]
     },
     "execution_count": 127,
     "metadata": {},
     "output_type": "execute_result"
    }
   ],
   "source": [
    "model.score(transformed_data_test, encoder.inverse_transform(y_test))"
   ]
  },
  {
   "cell_type": "markdown",
   "metadata": {
    "slideshow": {
     "slide_type": "subslide"
    }
   },
   "source": [
    "## Convolutional Models"
   ]
  },
  {
   "cell_type": "markdown",
   "metadata": {
    "slideshow": {
     "slide_type": "subslide"
    }
   },
   "source": [
    "### Wide and Deep Character-level CNN\n",
    "![](https://raw.githubusercontent.com/pth1993/NNVLP/master/docs/cnn.png)"
   ]
  },
  {
   "cell_type": "code",
   "execution_count": 104,
   "metadata": {
    "slideshow": {
     "slide_type": "subslide"
    }
   },
   "outputs": [],
   "source": [
    "from keras.models import Model\n",
    "from keras.layers import Conv1D, GlobalMaxPooling1D, MaxPooling1D, Input, Concatenate"
   ]
  },
  {
   "cell_type": "code",
   "execution_count": null,
   "metadata": {
    "slideshow": {
     "slide_type": "-"
    }
   },
   "outputs": [],
   "source": [
    "transformed_data = pipeline.named_steps.featureunion.transform(X)"
   ]
  },
  {
   "cell_type": "code",
   "execution_count": null,
   "metadata": {
    "slideshow": {
     "slide_type": "-"
    }
   },
   "outputs": [],
   "source": [
    "from keras.preprocessing.text import Tokenizer\n",
    "X = X.astype(str)\n",
    "tokenizer = Tokenizer(num_words=26, filters='!\"#$%&()*+,-./:;<=>?@[\\]^_`{|}~', lower=True, split=' ', char_level=True, oov_token=None)\n",
    "tokenizer.fit_on_texts(data['description'])\n",
    "Deep = tokenizer.texts_to_sequences(data['description'])\n",
    "\n",
    "from keras.preprocessing.sequence import pad_sequences\n",
    "Deep = pad_sequences(Deep, maxlen=40, dtype='int32', padding='pre', truncating='pre', value=0.0)"
   ]
  },
  {
   "cell_type": "code",
   "execution_count": null,
   "metadata": {
    "slideshow": {
     "slide_type": "subslide"
    }
   },
   "outputs": [],
   "source": [
    "Deep0 = Input(shape=(Deep[1],Deep[2]))\n",
    "\n",
    "Deep1 = Conv1D(filters = 30, kernel_size = 3, strides=1)(Deep0)\n",
    "Deep2 = MaxPooling1D(pool_size=3)(Deep1)\n",
    "Deep3 = Conv1D(filters = 30, kernel_size = 4, strides=1)(Deep2)\n",
    "Deep4 = GlobalMaxPooling1D()(Deep3)\n",
    "\n",
    "Deep5 = Dense(units = 20, activation= 'relu', kernel_initializer='he_uniform')(Deep4)\n",
    "Deep6 = Dropout(rate=0.1)(Deep5)"
   ]
  },
  {
   "cell_type": "code",
   "execution_count": null,
   "metadata": {
    "slideshow": {
     "slide_type": "subslide"
    }
   },
   "outputs": [],
   "source": [
    "Wide0 = Input(shape=(Wide_dim,))\n",
    "Wide1 = Dense(units = 15, activation= 'relu', kernel_initializer='he_uniform')(Wide0)\n",
    "Wide2 = Dropout(rate=0.15)(Wide1)"
   ]
  },
  {
   "cell_type": "code",
   "execution_count": null,
   "metadata": {
    "slideshow": {
     "slide_type": "subslide"
    }
   },
   "outputs": [],
   "source": [
    "model0 = Concatenate(axis=-1)([Deep6, Wide2])\n",
    "\n",
    "model1 = Dense(units = 25, activation= 'relu')(model0)\n",
    "model2 = Dropout(rate=0.15)(model1)\n",
    "\n",
    "model5 = Dense(units = Y_train.shape[1], activation= 'softmax')(model2)\n",
    "\n",
    "model = Model(inputs=[Deep0, Wide0], outputs=model5)"
   ]
  },
  {
   "cell_type": "code",
   "execution_count": null,
   "metadata": {
    "slideshow": {
     "slide_type": "-"
    }
   },
   "outputs": [],
   "source": [
    "model.compile(loss='categorical_crossentropy', optimizer=adam)\n",
    "\n",
    "model.fit(x=[Deep, transformed_data], y=y, epochs=25, verbose=2, validation_split=0.1, shuffle=True, callbacks=[stopping])"
   ]
  },
  {
   "cell_type": "markdown",
   "metadata": {
    "slideshow": {
     "slide_type": "subslide"
    }
   },
   "source": [
    "<img src=\"./model.png\" style=\"width: 50%; height: 50%\"/>"
   ]
  },
  {
   "cell_type": "markdown",
   "metadata": {
    "slideshow": {
     "slide_type": "slide"
    }
   },
   "source": [
    "# Benchmarks"
   ]
  },
  {
   "cell_type": "markdown",
   "metadata": {
    "slideshow": {
     "slide_type": "subslide"
    }
   },
   "source": [
    "## Cross Validation"
   ]
  },
  {
   "cell_type": "code",
   "execution_count": 9,
   "metadata": {
    "slideshow": {
     "slide_type": "skip"
    }
   },
   "outputs": [],
   "source": [
    "X, y = train.drop(columns=['category']), encoded_y_train"
   ]
  },
  {
   "cell_type": "code",
   "execution_count": 18,
   "metadata": {
    "slideshow": {
     "slide_type": "-"
    }
   },
   "outputs": [
    {
     "data": {
      "text/html": [
       "<div>\n",
       "<style scoped>\n",
       "    .dataframe tbody tr th:only-of-type {\n",
       "        vertical-align: middle;\n",
       "    }\n",
       "\n",
       "    .dataframe tbody tr th {\n",
       "        vertical-align: top;\n",
       "    }\n",
       "\n",
       "    .dataframe thead th {\n",
       "        text-align: right;\n",
       "    }\n",
       "</style>\n",
       "<table border=\"1\" class=\"dataframe\">\n",
       "  <thead>\n",
       "    <tr style=\"text-align: right;\">\n",
       "      <th></th>\n",
       "      <th>fit_time</th>\n",
       "      <th>score_time</th>\n",
       "      <th>test_score</th>\n",
       "      <th>train_score</th>\n",
       "    </tr>\n",
       "  </thead>\n",
       "  <tbody>\n",
       "    <tr>\n",
       "      <th>0</th>\n",
       "      <td>30.763757</td>\n",
       "      <td>0.930299</td>\n",
       "      <td>-0.024971</td>\n",
       "      <td>-0.010811</td>\n",
       "    </tr>\n",
       "    <tr>\n",
       "      <th>1</th>\n",
       "      <td>38.514634</td>\n",
       "      <td>1.063627</td>\n",
       "      <td>-0.014878</td>\n",
       "      <td>-0.011072</td>\n",
       "    </tr>\n",
       "    <tr>\n",
       "      <th>2</th>\n",
       "      <td>28.082782</td>\n",
       "      <td>0.945335</td>\n",
       "      <td>-0.017070</td>\n",
       "      <td>-0.014372</td>\n",
       "    </tr>\n",
       "    <tr>\n",
       "      <th>3</th>\n",
       "      <td>33.809651</td>\n",
       "      <td>1.022613</td>\n",
       "      <td>-0.013790</td>\n",
       "      <td>-0.012194</td>\n",
       "    </tr>\n",
       "    <tr>\n",
       "      <th>4</th>\n",
       "      <td>44.674286</td>\n",
       "      <td>1.277124</td>\n",
       "      <td>-0.018595</td>\n",
       "      <td>-0.010021</td>\n",
       "    </tr>\n",
       "    <tr>\n",
       "      <th>5</th>\n",
       "      <td>31.517745</td>\n",
       "      <td>0.933698</td>\n",
       "      <td>-0.015220</td>\n",
       "      <td>-0.013248</td>\n",
       "    </tr>\n",
       "    <tr>\n",
       "      <th>6</th>\n",
       "      <td>32.288925</td>\n",
       "      <td>0.955801</td>\n",
       "      <td>-0.021903</td>\n",
       "      <td>-0.011329</td>\n",
       "    </tr>\n",
       "    <tr>\n",
       "      <th>7</th>\n",
       "      <td>31.302816</td>\n",
       "      <td>0.948642</td>\n",
       "      <td>-0.019539</td>\n",
       "      <td>-0.014599</td>\n",
       "    </tr>\n",
       "    <tr>\n",
       "      <th>8</th>\n",
       "      <td>23.971651</td>\n",
       "      <td>0.926102</td>\n",
       "      <td>-0.030830</td>\n",
       "      <td>-0.015257</td>\n",
       "    </tr>\n",
       "    <tr>\n",
       "      <th>9</th>\n",
       "      <td>26.590147</td>\n",
       "      <td>0.928146</td>\n",
       "      <td>-0.012016</td>\n",
       "      <td>-0.015209</td>\n",
       "    </tr>\n",
       "  </tbody>\n",
       "</table>\n",
       "</div>"
      ],
      "text/plain": [
       "    fit_time  score_time  test_score  train_score\n",
       "0  30.763757    0.930299   -0.024971    -0.010811\n",
       "1  38.514634    1.063627   -0.014878    -0.011072\n",
       "2  28.082782    0.945335   -0.017070    -0.014372\n",
       "3  33.809651    1.022613   -0.013790    -0.012194\n",
       "4  44.674286    1.277124   -0.018595    -0.010021\n",
       "5  31.517745    0.933698   -0.015220    -0.013248\n",
       "6  32.288925    0.955801   -0.021903    -0.011329\n",
       "7  31.302816    0.948642   -0.019539    -0.014599\n",
       "8  23.971651    0.926102   -0.030830    -0.015257\n",
       "9  26.590147    0.928146   -0.012016    -0.015209"
      ]
     },
     "execution_count": 18,
     "metadata": {},
     "output_type": "execute_result"
    }
   ],
   "source": [
    "scores = cross_validate(pipeline, X, y, scoring='neg_log_loss', cv=10, return_train_score=True)\n",
    "cv_scores = pd.DataFrame(scores)\n",
    "cv_scores"
   ]
  },
  {
   "cell_type": "markdown",
   "metadata": {
    "slideshow": {
     "slide_type": "subslide"
    }
   },
   "source": [
    "## Performance"
   ]
  },
  {
   "cell_type": "code",
   "execution_count": 19,
   "metadata": {
    "slideshow": {
     "slide_type": "-"
    }
   },
   "outputs": [
    {
     "data": {
      "text/plain": [
       "'Mean Time: 32.15163931846619 | Standard Deviation: 5.939685435521175'"
      ]
     },
     "execution_count": 19,
     "metadata": {},
     "output_type": "execute_result"
    }
   ],
   "source": [
    "\"Mean Time: {0} | Standard Deviation: {1}\".format(cv_scores.fit_time.mean(), cv_scores.fit_time.std())"
   ]
  },
  {
   "cell_type": "code",
   "execution_count": 20,
   "metadata": {
    "slideshow": {
     "slide_type": "-"
    }
   },
   "outputs": [
    {
     "data": {
      "text/plain": [
       "'Mean Score: -0.01888117405504416 | Score Standard Deviation: 0.00572771569996098'"
      ]
     },
     "execution_count": 20,
     "metadata": {},
     "output_type": "execute_result"
    }
   ],
   "source": [
    "\"Mean Score: {0} | Score Standard Deviation: {1}\".format(cv_scores.test_score.mean(), cv_scores.test_score.std())"
   ]
  },
  {
   "cell_type": "markdown",
   "metadata": {
    "slideshow": {
     "slide_type": "subslide"
    }
   },
   "source": [
    "## Classification Report"
   ]
  },
  {
   "cell_type": "code",
   "execution_count": 16,
   "metadata": {
    "slideshow": {
     "slide_type": "-"
    }
   },
   "outputs": [
    {
     "name": "stdout",
     "output_type": "stream",
     "text": [
      "                 precision    recall  f1-score   support\n",
      "\n",
      "       Clothing       1.00      1.00      1.00      5052\n",
      "        Eat_Out       1.00      1.00      1.00      5016\n",
      "      Education       1.00      1.00      1.00      4962\n",
      "  Entertainment       1.00      1.00      1.00      5035\n",
      "Gifts_Donations       1.00      1.00      1.00      4952\n",
      "      Groceries       0.99      1.00      0.99      5020\n",
      " Health_Fitness       1.00      0.96      0.98       419\n",
      " Holiday_Travel       1.00      1.00      1.00      4968\n",
      "           Home       1.00      1.00      1.00      4996\n",
      "        Medical       1.00      1.00      1.00      4954\n",
      "           Pets       1.00      1.00      1.00      3199\n",
      "      Transport       1.00      1.00      1.00      4988\n",
      "\n",
      "    avg / total       1.00      1.00      1.00     53561\n",
      "\n"
     ]
    }
   ],
   "source": [
    "y_pred = pipeline.predict(X_test)\n",
    "print(classification_report(y_test, y_pred, target_names=list(encoder.classes_)))"
   ]
  },
  {
   "cell_type": "markdown",
   "metadata": {
    "slideshow": {
     "slide_type": "slide"
    }
   },
   "source": [
    "[//]: ![](https://png.icons8.com/dusk/4x/factory.png)\n",
    "# Production"
   ]
  },
  {
   "cell_type": "markdown",
   "metadata": {
    "slideshow": {
     "slide_type": "subslide"
    }
   },
   "source": [
    "## Pickle\n",
    "## Online learning\n",
    "## Scalable"
   ]
  },
  {
   "cell_type": "markdown",
   "metadata": {
    "slideshow": {
     "slide_type": "subslide"
    }
   },
   "source": [
    "## Speed"
   ]
  },
  {
   "cell_type": "code",
   "execution_count": 31,
   "metadata": {
    "slideshow": {
     "slide_type": "-"
    }
   },
   "outputs": [
    {
     "name": "stdout",
     "output_type": "stream",
     "text": [
      "2.88 s ± 34.8 ms per loop (mean ± std. dev. of 7 runs, 1 loop each)\n"
     ]
    }
   ],
   "source": [
    "%%timeit\n",
    "predictions = pipeline.predict(test)"
   ]
  },
  {
   "cell_type": "markdown",
   "metadata": {
    "slideshow": {
     "slide_type": "subslide"
    }
   },
   "source": [
    "## Serializing"
   ]
  },
  {
   "cell_type": "code",
   "execution_count": 25,
   "metadata": {
    "slideshow": {
     "slide_type": "-"
    }
   },
   "outputs": [],
   "source": [
    "with open('./{0}{1}/pipeline.pkl'.format(model_name,date), 'wb') as f:\n",
    "    dill.dump(pipeline, f, dill.HIGHEST_PROTOCOL)"
   ]
  },
  {
   "cell_type": "code",
   "execution_count": 26,
   "metadata": {
    "slideshow": {
     "slide_type": "-"
    }
   },
   "outputs": [
    {
     "name": "stdout",
     "output_type": "stream",
     "text": [
      "File Size: 1.774015 mb\n"
     ]
    }
   ],
   "source": [
    "print(\"File Size: {0} mb\".format(os.path.getsize(\n",
    "        './{0}{1}/pipeline.pkl'.format(model_name,date))/1000000))"
   ]
  },
  {
   "cell_type": "code",
   "execution_count": 27,
   "metadata": {
    "slideshow": {
     "slide_type": "-"
    }
   },
   "outputs": [],
   "source": [
    "with open('./{0}{1}/pipeline.pkl'.format(model_name,date), 'rb') as f:\n",
    "    model = dill.load(f)"
   ]
  },
  {
   "cell_type": "markdown",
   "metadata": {
    "slideshow": {
     "slide_type": "subslide"
    }
   },
   "source": [
    "## Online-Learning"
   ]
  },
  {
   "cell_type": "markdown",
   "metadata": {
    "slideshow": {
     "slide_type": "-"
    }
   },
   "source": [
    "Online words with early-stopping off.  "
   ]
  },
  {
   "cell_type": "code",
   "execution_count": 58,
   "metadata": {
    "slideshow": {
     "slide_type": "-"
    }
   },
   "outputs": [
    {
     "data": {
      "text/plain": [
       "MLPClassifier(activation='tanh', alpha=0.0002, batch_size='auto', beta_1=0.9,\n",
       "       beta_2=0.999, early_stopping=False, epsilon=1e-08,\n",
       "       hidden_layer_sizes=(50, 50, 50), learning_rate='constant',\n",
       "       learning_rate_init=0.001, max_iter=10, momentum=0.9,\n",
       "       nesterovs_momentum=True, power_t=0.5, random_state=None,\n",
       "       shuffle=True, solver='adam', tol=0.0001, validation_fraction=0.1,\n",
       "       verbose=False, warm_start=False)"
      ]
     },
     "execution_count": 58,
     "metadata": {},
     "output_type": "execute_result"
    }
   ],
   "source": [
    "all_classes = np.unique(range(0,y_test.shape[1]))\n",
    "pipeline.named_steps.mlpclassifier.partial_fit(transformed_data_test, y_test, classes=all_classes)"
   ]
  },
  {
   "cell_type": "markdown",
   "metadata": {
    "slideshow": {
     "slide_type": "subslide"
    }
   },
   "source": [
    "## Flask-based REST API"
   ]
  },
  {
   "cell_type": "code",
   "execution_count": null,
   "metadata": {
    "slideshow": {
     "slide_type": "-"
    }
   },
   "outputs": [],
   "source": [
    "import numpy as np\n",
    "from flask import Flask, abort, jsonify, request\n",
    "import requests,json\n",
    "\n",
    "app = Flask(__name__)\n",
    "\n",
    "@app.route('/predict', methods=['post'])\n",
    "def predict():\n",
    "    json_ = request.get_json(force=True)\n",
    "    query = [json_]\n",
    "    return pipeline.predict(query)\n",
    "\n",
    "if __name__ == '__main__':\n",
    "    app.run(port=8080)"
   ]
  },
  {
   "cell_type": "markdown",
   "metadata": {
    "slideshow": {
     "slide_type": "subslide"
    }
   },
   "source": [
    "## Submission"
   ]
  },
  {
   "cell_type": "code",
   "execution_count": 37,
   "metadata": {
    "slideshow": {
     "slide_type": "-"
    }
   },
   "outputs": [],
   "source": [
    "pipeline.fit(train.drop(columns=['category']), encoded_y_train)\n",
    "\n",
    "predictions = pipeline.predict_proba(test)\n",
    "predictions = pd.DataFrame(predictions, columns=encoder.classes_)\n",
    "submission = pd.concat([test['id'], predictions], axis=1)\n",
    "submission.to_csv(path_or_buf='./{0}{1}/submission.csv'.format(model_name,date), sep=',', index=False)"
   ]
  },
  {
   "cell_type": "markdown",
   "metadata": {
    "slideshow": {
     "slide_type": "slide"
    }
   },
   "source": [
    "[//]: ![](https://png.icons8.com/dusk/4x/classroom.png)\n",
    "# Lessons"
   ]
  },
  {
   "cell_type": "markdown",
   "metadata": {
    "slideshow": {
     "slide_type": "subslide"
    }
   },
   "source": [
    "## Explore!\n",
    "## Meta-heuristics and Meta-learning ♥\n",
    "## KILL YOUR DARLINGS"
   ]
  },
  {
   "cell_type": "markdown",
   "metadata": {
    "slideshow": {
     "slide_type": "slide"
    }
   },
   "source": [
    "[//]: ![Thanksgiving](https://png.icons8.com/cotton/3x/thanksgiving.png))\n",
    "# Thanks"
   ]
  }
 ],
 "metadata": {
  "celltoolbar": "Slideshow",
  "kernelspec": {
   "display_name": "Python 3",
   "language": "python",
   "name": "python3"
  },
  "language_info": {
   "codemirror_mode": {
    "name": "ipython",
    "version": 3
   },
   "file_extension": ".py",
   "mimetype": "text/x-python",
   "name": "python",
   "nbconvert_exporter": "python",
   "pygments_lexer": "ipython3",
   "version": "3.6.5"
  }
 },
 "nbformat": 4,
 "nbformat_minor": 2
}
